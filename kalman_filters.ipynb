{
 "cells": [
  {
   "cell_type": "markdown",
   "metadata": {},
   "source": [
    "## Kalman Filters\n",
    "Kalman filter can take data with a lot of noise in it, yet provide an accurate measurement on the real value. And it can do so fast."
   ]
  },
  {
   "cell_type": "code",
   "execution_count": null,
   "metadata": {},
   "outputs": [],
   "source": [
    "\"\"\"\n",
    "Wait, we're doing term 2 mostly in C++, why do I have a python notebook open?\n",
    "Oh, right https://github.com/QuantStack/xeus-cling to the rescue.\n",
    "\"\"\"\n"
   ]
  },
  {
   "cell_type": "markdown",
   "metadata": {},
   "source": [
    "There are 3 common Kalman Filter types and the corresponding systems they can be applied to:\n",
    "1. KF - linear\n",
    "2. EKF (Extended) - nonlinear \n",
    "3. UKF (Unscented) - highly nonlinear"
   ]
  }
 ],
 "metadata": {},
 "nbformat": 4,
 "nbformat_minor": 2
}
