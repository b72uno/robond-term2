{
 "cells": [
  {
   "cell_type": "markdown",
   "metadata": {},
   "source": [
    "## Kalman Filters\n",
    "Kalman filter can take data with a lot of noise in it, yet\n",
    "provide an accurate measurement on the real value. And it can do so fast."
   ]
  },
  {
   "cell_type": "code",
   "execution_count": null,
   "metadata": {},
   "outputs": [],
   "source": [
    "\"\"\"\n",
    "Wait, we're doing term 2 mostly in C++, why do I have a python notebook open?\n",
    "Oh, right https://github.com/QuantStack/xeus-cling to the rescue.\n",
    "\"\"\"\n"
   ]
  },
  {
   "cell_type": "markdown",
   "metadata": {},
   "source": [
    "There are 3 common Kalman Filter types and the corresponding systems they can be\n",
    "applied to:\n",
    "1. KF - linear\n",
    "2. EKF (Extended) - nonlinear \n",
    "3. UKF (Unscented) - highly nonlinear\n",
    "\n",
    "\n",
    "The KF algorithm treats all noise as unimodal Gaussian, i.e. it is optimal if the noise is Gaussian, as in it minimizes the mean square error of the estimated parameters.\n",
    "\n",
    "If the noise is characterized by a different probability distribution, other algorithms might be better suited."
   ]
  }
 ],
 "metadata": {},
 "nbformat": 4,
 "nbformat_minor": 2
}
